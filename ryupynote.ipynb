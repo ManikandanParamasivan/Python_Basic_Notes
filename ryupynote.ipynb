{
 "cells": [
  {
   "cell_type": "markdown",
   "id": "85dcc450",
   "metadata": {},
   "source": [
    "# Print Statement"
   ]
  },
  {
   "cell_type": "code",
   "execution_count": 16,
   "id": "a04d2d50",
   "metadata": {},
   "outputs": [
    {
     "name": "stdout",
     "output_type": "stream",
     "text": [
      "Hello World\n"
     ]
    }
   ],
   "source": [
    "print(\"Hello World\")"
   ]
  },
  {
   "cell_type": "markdown",
   "id": "01444d9b",
   "metadata": {},
   "source": [
    "# Data types and %whos use"
   ]
  },
  {
   "cell_type": "code",
   "execution_count": 10,
   "id": "79254757",
   "metadata": {},
   "outputs": [
    {
     "name": "stdout",
     "output_type": "stream",
     "text": [
      "Variable   Type     Data/Info\n",
      "-----------------------------\n",
      "a          int      5\n",
      "b          str      Ryuzin\n",
      "c          bool     True\n",
      "d          float    0.55\n"
     ]
    }
   ],
   "source": [
    "a = 5\n",
    "b = \"Ryuzin\"\n",
    "c = True\n",
    "d = 0.55\n",
    "%whos"
   ]
  },
  {
   "cell_type": "markdown",
   "id": "22f19234",
   "metadata": {},
   "source": [
    "# Arithmetic Operators"
   ]
  },
  {
   "cell_type": "code",
   "execution_count": 9,
   "id": "c2fffd60",
   "metadata": {},
   "outputs": [
    {
     "name": "stdout",
     "output_type": "stream",
     "text": [
      "a + b =  11\n",
      "a - b =  -1\n",
      "a * b =  30\n",
      "a / b =  0.8333333333333334\n",
      "a**b =  15625\n",
      "a % b =  5\n",
      "a // b =  0\n"
     ]
    }
   ],
   "source": [
    "a  = 5\n",
    "b  = 6\n",
    "print(\"a + b = \", a+b)\n",
    "print(\"a - b = \", a-b)\n",
    "print(\"a * b = \", a*b)\n",
    "print(\"a / b = \", a/b)\n",
    "print(\"a**b = \", a**b)\n",
    "print(\"a % b = \", a%b)\n",
    "print(\"a // b = \", a//b)"
   ]
  },
  {
   "cell_type": "markdown",
   "id": "aa362014",
   "metadata": {},
   "source": [
    "# Boolean Operators and Comparison "
   ]
  },
  {
   "cell_type": "code",
   "execution_count": 13,
   "id": "ec482745",
   "metadata": {},
   "outputs": [
    {
     "name": "stdout",
     "output_type": "stream",
     "text": [
      "False\n"
     ]
    }
   ],
   "source": [
    "a = True\n",
    "b = False\n",
    "print((a and b) or (a and b))"
   ]
  },
  {
   "cell_type": "code",
   "execution_count": 15,
   "id": "d0ccb92d",
   "metadata": {},
   "outputs": [
    {
     "name": "stdout",
     "output_type": "stream",
     "text": [
      "x > y False\n",
      "x < y True\n",
      "x = y False\n",
      "x >= y False\n",
      "x <= y True\n",
      "x != y True\n"
     ]
    }
   ],
   "source": [
    "x = 5\n",
    "y = 6\n",
    "print(\"x > y\", x>y)\n",
    "print(\"x < y\", x<y)\n",
    "print(\"x = y\", x==y)\n",
    "print(\"x >= y\", x>=y)\n",
    "print(\"x <= y\", x<=y)\n",
    "print(\"x != y\", x!=y)"
   ]
  },
  {
   "cell_type": "markdown",
   "id": "339889c6",
   "metadata": {},
   "source": [
    "# TAKING USER INPUT AND USE OF .FORMAT "
   ]
  },
  {
   "cell_type": "code",
   "execution_count": 17,
   "id": "8140d9d7",
   "metadata": {},
   "outputs": [
    {
     "name": "stdout",
     "output_type": "stream",
     "text": [
      "Enter name:mani\n",
      "IGN : ryu\n",
      "No of years playing :3\n",
      "This guy names mani with ign ryu is playing this game for 3 years\n"
     ]
    }
   ],
   "source": [
    "name = str(input(\"Enter name:\"))\n",
    "ign = str(input(\"IGN : \"))\n",
    "years = int(input(\"No of years playing :\"))\n",
    "print(\"This guy names {0} with ign {1} is playing this game for {2} years\".format(name,ign,years))"
   ]
  },
  {
   "cell_type": "markdown",
   "id": "faf0ef38",
   "metadata": {},
   "source": [
    "# If Conditions"
   ]
  },
  {
   "cell_type": "code",
   "execution_count": 18,
   "id": "0a167097",
   "metadata": {},
   "outputs": [
    {
     "name": "stdout",
     "output_type": "stream",
     "text": [
      "No 1:23\n",
      "No 2:24\n",
      "a < b\n"
     ]
    }
   ],
   "source": [
    "a = int(input(\"No 1:\"))\n",
    "b = int(input(\"No 2:\"))\n",
    "\n",
    "if(a > b):\n",
    "    print(\"a > b\")\n",
    "elif (a == b):\n",
    "    print(\"a = b\")\n",
    "else:\n",
    "    print(\"a < b\")"
   ]
  },
  {
   "cell_type": "markdown",
   "id": "ea18fa08",
   "metadata": {},
   "source": [
    "# While loop"
   ]
  },
  {
   "cell_type": "code",
   "execution_count": 19,
   "id": "c408ca7a",
   "metadata": {},
   "outputs": [
    {
     "name": "stdout",
     "output_type": "stream",
     "text": [
      "10\n",
      "9\n",
      "8\n",
      "7\n",
      "6\n",
      "5\n",
      "4\n",
      "3\n",
      "2\n",
      "1\n"
     ]
    }
   ],
   "source": [
    "i = 10\n",
    "while(i > 0):\n",
    "    print(i)\n",
    "    i -= 1"
   ]
  },
  {
   "cell_type": "code",
   "execution_count": 20,
   "id": "475df5f7",
   "metadata": {},
   "outputs": [
    {
     "name": "stdout",
     "output_type": "stream",
     "text": [
      "Not Prime no within 25\n"
     ]
    }
   ],
   "source": [
    "n = 20\n",
    "i = 2\n",
    "while(i < 25):\n",
    "    if(n % i == 0):\n",
    "        print(\"Not Prime no within 25\")\n",
    "        break\n",
    "    else:\n",
    "        i += 1"
   ]
  },
  {
   "cell_type": "markdown",
   "id": "332e316b",
   "metadata": {},
   "source": [
    "# For Loop"
   ]
  },
  {
   "cell_type": "code",
   "execution_count": 21,
   "id": "4eaac69c",
   "metadata": {},
   "outputs": [
    {
     "name": "stdout",
     "output_type": "stream",
     "text": [
      "0\n",
      "1\n",
      "2\n",
      "3\n",
      "4\n",
      "5\n",
      "6\n",
      "7\n",
      "8\n",
      "9\n"
     ]
    }
   ],
   "source": [
    "for i in range (10):\n",
    "    print(i)\n",
    "    "
   ]
  },
  {
   "cell_type": "code",
   "execution_count": 25,
   "id": "fa0febe1",
   "metadata": {
    "scrolled": true
   },
   "outputs": [
    {
     "name": "stdout",
     "output_type": "stream",
     "text": [
      "1\n",
      "3\n",
      "5\n",
      "7\n",
      "9\n"
     ]
    }
   ],
   "source": [
    "for i in range(1,10,2):\n",
    "    print(i)"
   ]
  },
  {
   "cell_type": "code",
   "execution_count": 26,
   "id": "02b30264",
   "metadata": {},
   "outputs": [
    {
     "name": "stdout",
     "output_type": "stream",
     "text": [
      "10\n",
      "8\n",
      "6\n",
      "4\n",
      "2\n"
     ]
    }
   ],
   "source": [
    "for i in range(10,1,-2):\n",
    "    print(i)"
   ]
  },
  {
   "cell_type": "code",
   "execution_count": 41,
   "id": "0bf60b67",
   "metadata": {},
   "outputs": [
    {
     "name": "stdout",
     "output_type": "stream",
     "text": [
      "1\n",
      "4\n",
      "9\n",
      "16\n",
      "25\n",
      "36\n",
      "49\n",
      "64\n",
      "81\n"
     ]
    }
   ],
   "source": [
    "for i in range(1,10):\n",
    "    print(i*i)\n",
    "    "
   ]
  },
  {
   "cell_type": "code",
   "execution_count": 40,
   "id": "d1fcd493",
   "metadata": {},
   "outputs": [
    {
     "name": "stdout",
     "output_type": "stream",
     "text": [
      "Enter the no 23\n",
      "Prime\n"
     ]
    }
   ],
   "source": [
    "n = int(input(\"Enter the no \"))\n",
    "check = 1\n",
    "for i in range(2,n):\n",
    "    if(n % i == 0):\n",
    "        print(\"Not Prime\")\n",
    "        check = 0\n",
    "        break\n",
    "if(check == 1):\n",
    "    print(\"Prime\")\n",
    "    "
   ]
  },
  {
   "cell_type": "markdown",
   "id": "9727ced9",
   "metadata": {},
   "source": [
    "# Data Structure "
   ]
  },
  {
   "cell_type": "markdown",
   "id": "4c27eed0",
   "metadata": {},
   "source": [
    "# List"
   ]
  },
  {
   "cell_type": "code",
   "execution_count": 2,
   "id": "ea049e4b",
   "metadata": {},
   "outputs": [
    {
     "name": "stdout",
     "output_type": "stream",
     "text": [
      "Zilean\n"
     ]
    }
   ],
   "source": [
    "league = [\"Ryujin\", 21,\"Zilean\"]\n",
    "print(league[2])"
   ]
  },
  {
   "cell_type": "code",
   "execution_count": 5,
   "id": "c46d8513",
   "metadata": {},
   "outputs": [
    {
     "name": "stdout",
     "output_type": "stream",
     "text": [
      "['Ryujin', 21, 'Zilean', 24]\n"
     ]
    }
   ],
   "source": [
    "league.append(24)\n",
    "print(league)"
   ]
  },
  {
   "cell_type": "code",
   "execution_count": 6,
   "id": "ccaccc01",
   "metadata": {},
   "outputs": [
    {
     "name": "stdout",
     "output_type": "stream",
     "text": [
      "['Ryujin', 21, 'Yasou', 'Zilean', 24]\n"
     ]
    }
   ],
   "source": [
    "league.insert(2,\"Yasou\")\n",
    "print(league)"
   ]
  },
  {
   "cell_type": "code",
   "execution_count": 7,
   "id": "8a243679",
   "metadata": {},
   "outputs": [
    {
     "name": "stdout",
     "output_type": "stream",
     "text": [
      "['Ryujin', 21, 'Yasou', 'Zilean', 24]\n"
     ]
    }
   ],
   "source": [
    "league2 = league.copy()\n",
    "print(league2)"
   ]
  },
  {
   "cell_type": "markdown",
   "id": "2cf41221",
   "metadata": {},
   "source": [
    "# Tuple"
   ]
  },
  {
   "cell_type": "code",
   "execution_count": 8,
   "id": "316f5fe0",
   "metadata": {},
   "outputs": [
    {
     "name": "stdout",
     "output_type": "stream",
     "text": [
      "9.02\n",
      "league\n"
     ]
    }
   ],
   "source": [
    "lol = (\"riot\", 24,\"league\", 9.02)\n",
    "print(lol[3])\n",
    "print(lol[-2])"
   ]
  },
  {
   "cell_type": "code",
   "execution_count": 11,
   "id": "f2048ec2",
   "metadata": {},
   "outputs": [
    {
     "name": "stdout",
     "output_type": "stream",
     "text": [
      "24\n"
     ]
    }
   ],
   "source": [
    "print(lol[1])"
   ]
  },
  {
   "cell_type": "markdown",
   "id": "171ecbe9",
   "metadata": {},
   "source": [
    "# Set"
   ]
  },
  {
   "cell_type": "code",
   "execution_count": 19,
   "id": "20abacdf",
   "metadata": {},
   "outputs": [
    {
     "name": "stdout",
     "output_type": "stream",
     "text": [
      "{32, 'akali', 'yasou', 24, 'ryujin'}\n"
     ]
    }
   ],
   "source": [
    "set1 = {\"ryujin\",24,\"ryujin\",32,\"yasou\",\"akali\"}\n",
    "print(set1)\n",
    "set2 = set1.copy()"
   ]
  },
  {
   "cell_type": "code",
   "execution_count": 20,
   "id": "5fc900ec",
   "metadata": {},
   "outputs": [
    {
     "name": "stdout",
     "output_type": "stream",
     "text": [
      "{32, 'akali', 'yasou', 24, 'ryujin'}\n"
     ]
    }
   ],
   "source": [
    "print(set2)"
   ]
  },
  {
   "cell_type": "markdown",
   "id": "f35c41ab",
   "metadata": {},
   "source": [
    "# Dict"
   ]
  },
  {
   "cell_type": "code",
   "execution_count": 21,
   "id": "4dc28a89",
   "metadata": {},
   "outputs": [
    {
     "name": "stdout",
     "output_type": "stream",
     "text": [
      "{'code': 'myname', 'age': 21, 'rnce': 'dnce'}\n"
     ]
    }
   ],
   "source": [
    "world1 = {\"code\":\"myname\",\"age\":21,\"rnce\":\"dnce\"}\n",
    "print(world1)"
   ]
  },
  {
   "cell_type": "code",
   "execution_count": 23,
   "id": "4eb7b445",
   "metadata": {},
   "outputs": [
    {
     "name": "stdout",
     "output_type": "stream",
     "text": [
      "myname\n"
     ]
    }
   ],
   "source": [
    "print(world1[\"code\"])"
   ]
  },
  {
   "cell_type": "code",
   "execution_count": 24,
   "id": "fc4d526b",
   "metadata": {},
   "outputs": [
    {
     "name": "stdout",
     "output_type": "stream",
     "text": [
      "world\n"
     ]
    }
   ],
   "source": [
    "world1[\"new\"] = \"world\"\n",
    "print(world1[\"new\"])"
   ]
  },
  {
   "cell_type": "markdown",
   "id": "4a99385d",
   "metadata": {},
   "source": [
    "# Functions"
   ]
  },
  {
   "cell_type": "code",
   "execution_count": 25,
   "id": "7cb1d791",
   "metadata": {},
   "outputs": [
    {
     "name": "stdout",
     "output_type": "stream",
     "text": [
      "Enter the no: 9\n",
      "[9, 18, 27, 36, 45, 54, 63, 72, 81, 90]\n"
     ]
    }
   ],
   "source": [
    "def table(n):\n",
    "    list1 = []\n",
    "    for i in range(1,11):\n",
    "        list1.append(i*n)\n",
    "    print(list1)\n",
    "\n",
    "n = int(input(\"Enter the no: \"))\n",
    "table(n)\n",
    "    "
   ]
  },
  {
   "cell_type": "markdown",
   "id": "6624aadc",
   "metadata": {},
   "source": [
    "# String"
   ]
  },
  {
   "cell_type": "code",
   "execution_count": 29,
   "id": "df44d0ad",
   "metadata": {},
   "outputs": [
    {
     "name": "stdout",
     "output_type": "stream",
     "text": [
      "10\n",
      "Raven Co\n",
      "Raven \n",
      "Raven Cod\n",
      "edoC nevaR\n"
     ]
    }
   ],
   "source": [
    "n = \"Raven Code\"\n",
    "print(len(n))\n",
    "print(n[0:8])\n",
    "print(n[:6])\n",
    "print(n[:-1])\n",
    "print(n[::-1])"
   ]
  },
  {
   "cell_type": "code",
   "execution_count": 36,
   "id": "06b6c01f",
   "metadata": {},
   "outputs": [
    {
     "name": "stdout",
     "output_type": "stream",
     "text": [
      "Yasou is Trash\n",
      "[' Yasou ', ' Trash ']\n",
      " YASOU IS TRASH \n",
      " yasou is trash \n",
      " yasou is trash \n",
      " Yasou was Trash \n"
     ]
    }
   ],
   "source": [
    "r = \" Yasou is Trash \"\n",
    "d = r.strip()\n",
    "print(d)\n",
    "d = r.split(\"is\")\n",
    "print(d)\n",
    "print(r.upper())\n",
    "print(r.lower())\n",
    "print(r.capitalize())\n",
    "print(r.replace(\"is\",\"was\"))"
   ]
  },
  {
   "cell_type": "markdown",
   "id": "0db5f521",
   "metadata": {},
   "source": [
    "# End of Basic Python Syntax ; NOT INCLUDED SWITCH OPERATION"
   ]
  },
  {
   "cell_type": "code",
   "execution_count": null,
   "id": "fb810f6a",
   "metadata": {},
   "outputs": [],
   "source": []
  }
 ],
 "metadata": {
  "kernelspec": {
   "display_name": "Python 3 (ipykernel)",
   "language": "python",
   "name": "python3"
  },
  "language_info": {
   "codemirror_mode": {
    "name": "ipython",
    "version": 3
   },
   "file_extension": ".py",
   "mimetype": "text/x-python",
   "name": "python",
   "nbconvert_exporter": "python",
   "pygments_lexer": "ipython3",
   "version": "3.9.7"
  }
 },
 "nbformat": 4,
 "nbformat_minor": 5
}
